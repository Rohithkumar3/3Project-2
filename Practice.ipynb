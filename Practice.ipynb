{
  "nbformat": 4,
  "nbformat_minor": 0,
  "metadata": {
    "colab": {
      "provenance": [],
      "authorship_tag": "ABX9TyOwqxMqCB0ie/WynFNViru/",
      "include_colab_link": true
    },
    "kernelspec": {
      "name": "python3",
      "display_name": "Python 3"
    },
    "language_info": {
      "name": "python"
    }
  },
  "cells": [
    {
      "cell_type": "markdown",
      "metadata": {
        "id": "view-in-github",
        "colab_type": "text"
      },
      "source": [
        "<a href=\"https://colab.research.google.com/github/Rohithkumar3/3Project-2/blob/master/Practice.ipynb\" target=\"_parent\"><img src=\"https://colab.research.google.com/assets/colab-badge.svg\" alt=\"Open In Colab\"/></a>"
      ]
    },
    {
      "cell_type": "code",
      "metadata": {
        "id": "jCx4fgduHbe_"
      },
      "source": [
        "x=100"
      ],
      "execution_count": null,
      "outputs": []
    },
    {
      "cell_type": "code",
      "metadata": {
        "colab": {
          "base_uri": "https://localhost:8080/"
        },
        "id": "nvYZwYrzK08k",
        "outputId": "e9a69a01-b205-4417-db1f-64f90cf2c923"
      },
      "source": [
        "type(x)"
      ],
      "execution_count": null,
      "outputs": [
        {
          "output_type": "execute_result",
          "data": {
            "text/plain": [
              "int"
            ]
          },
          "metadata": {},
          "execution_count": 2
        }
      ]
    },
    {
      "cell_type": "code",
      "metadata": {
        "id": "Zf-_990fK6YW",
        "colab": {
          "base_uri": "https://localhost:8080/"
        },
        "outputId": "a227545c-c713-448c-effb-a00eef487e38"
      },
      "source": [
        "print(\"hello\")"
      ],
      "execution_count": null,
      "outputs": [
        {
          "output_type": "stream",
          "name": "stdout",
          "text": [
            "hello\n"
          ]
        }
      ]
    },
    {
      "cell_type": "code",
      "metadata": {
        "id": "gr6mwazGLBIZ"
      },
      "source": [
        "y=2.4245"
      ],
      "execution_count": null,
      "outputs": []
    },
    {
      "cell_type": "code",
      "metadata": {
        "colab": {
          "base_uri": "https://localhost:8080/"
        },
        "id": "ul-BXQujLRnR",
        "outputId": "13b1133a-4bf3-4720-9208-f401fedffcff"
      },
      "source": [
        "type(y)"
      ],
      "execution_count": null,
      "outputs": [
        {
          "output_type": "execute_result",
          "data": {
            "text/plain": [
              "float"
            ]
          },
          "metadata": {},
          "execution_count": 10
        }
      ]
    },
    {
      "cell_type": "code",
      "metadata": {
        "colab": {
          "base_uri": "https://localhost:8080/"
        },
        "id": "JzlnEfRTTyu4",
        "outputId": "8fd0ccf6-b2a9-47cb-9656-60f45db90f1a"
      },
      "source": [
        "import math\n",
        "x=6\n",
        "print(math.exp(x))"
      ],
      "execution_count": null,
      "outputs": [
        {
          "output_type": "stream",
          "name": "stdout",
          "text": [
            "403.4287934927351\n"
          ]
        }
      ]
    },
    {
      "cell_type": "code",
      "metadata": {
        "colab": {
          "base_uri": "https://localhost:8080/"
        },
        "id": "Zves-GZzTk43",
        "outputId": "0a58c57d-7617-4829-b1e4-3f3b6560e546"
      },
      "source": [
        "math.pi"
      ],
      "execution_count": null,
      "outputs": [
        {
          "output_type": "execute_result",
          "data": {
            "text/plain": [
              "3.141592653589793"
            ]
          },
          "metadata": {},
          "execution_count": 13
        }
      ]
    },
    {
      "cell_type": "code",
      "metadata": {
        "colab": {
          "base_uri": "https://localhost:8080/"
        },
        "id": "20_qms50Tst0",
        "outputId": "a578db0f-fbe0-455b-a463-43f09b8cb2bc"
      },
      "source": [
        "math.e"
      ],
      "execution_count": null,
      "outputs": [
        {
          "output_type": "execute_result",
          "data": {
            "text/plain": [
              "2.718281828459045"
            ]
          },
          "metadata": {},
          "execution_count": 14
        }
      ]
    },
    {
      "cell_type": "code",
      "metadata": {
        "colab": {
          "base_uri": "https://localhost:8080/"
        },
        "id": "sUztPZpKUhsz",
        "outputId": "d0d73866-9849-4518-eba2-9dce77d92dc2"
      },
      "source": [
        "print(math.sqrt(6))"
      ],
      "execution_count": null,
      "outputs": [
        {
          "output_type": "stream",
          "name": "stdout",
          "text": [
            "2.449489742783178\n"
          ]
        }
      ]
    },
    {
      "cell_type": "code",
      "metadata": {
        "id": "t_XGAOsHUwyA"
      },
      "source": [
        "num=[1,2,3,4]"
      ],
      "execution_count": null,
      "outputs": []
    },
    {
      "cell_type": "code",
      "metadata": {
        "colab": {
          "base_uri": "https://localhost:8080/"
        },
        "id": "jIbBI7fvVsEj",
        "outputId": "1ba633d8-47eb-400e-f042-f96ee5bbd081"
      },
      "source": [
        "print(num)"
      ],
      "execution_count": null,
      "outputs": [
        {
          "output_type": "stream",
          "name": "stdout",
          "text": [
            "[1, 2, 3, 4]\n"
          ]
        }
      ]
    },
    {
      "cell_type": "code",
      "metadata": {
        "id": "Tj5fVbMieHro"
      },
      "source": [
        "num.append(5)"
      ],
      "execution_count": null,
      "outputs": []
    },
    {
      "cell_type": "code",
      "metadata": {
        "colab": {
          "base_uri": "https://localhost:8080/"
        },
        "id": "xgGnru4ueScs",
        "outputId": "c85bbb83-986c-4128-ee9a-caa5f167b1af"
      },
      "source": [
        "print(num)"
      ],
      "execution_count": null,
      "outputs": [
        {
          "output_type": "stream",
          "name": "stdout",
          "text": [
            "[1, 2, 3, 4, 5, 5, 5]\n"
          ]
        }
      ]
    },
    {
      "cell_type": "code",
      "metadata": {
        "id": "JYNJDU0Se0p1"
      },
      "source": [],
      "execution_count": null,
      "outputs": []
    },
    {
      "cell_type": "code",
      "metadata": {
        "colab": {
          "base_uri": "https://localhost:8080/"
        },
        "id": "yepCExExgXqz",
        "outputId": "9b808a53-fec8-4cd8-e702-9494d73cba23"
      },
      "source": [
        "num.remove(5)\n",
        "print(num)"
      ],
      "execution_count": null,
      "outputs": [
        {
          "output_type": "stream",
          "name": "stdout",
          "text": [
            "[1, 2, 3, 4, 5]\n"
          ]
        }
      ]
    },
    {
      "cell_type": "code",
      "metadata": {
        "colab": {
          "base_uri": "https://localhost:8080/"
        },
        "id": "5NY3kZEtV_wC",
        "outputId": "3d9e932e-d2d0-4843-eca6-80353ce3a2e2"
      },
      "source": [
        "name=input(\"enter name \")\n",
        "print('hi',name)"
      ],
      "execution_count": null,
      "outputs": [
        {
          "output_type": "stream",
          "name": "stdout",
          "text": [
            "enter name Rohith\n",
            "hi Rohith\n"
          ]
        }
      ]
    },
    {
      "cell_type": "code",
      "metadata": {
        "colab": {
          "base_uri": "https://localhost:8080/"
        },
        "id": "g4TYfC9xWAjV",
        "outputId": "563c4ad6-45c3-4edf-9534-80ad690e9ba3"
      },
      "source": [
        "str=\"d\",\"hell\",1,'dog'\n",
        "print(str)"
      ],
      "execution_count": null,
      "outputs": [
        {
          "output_type": "stream",
          "name": "stdout",
          "text": [
            "('d', 'hell', 1, 'dog')\n"
          ]
        }
      ]
    },
    {
      "cell_type": "code",
      "metadata": {
        "colab": {
          "base_uri": "https://localhost:8080/"
        },
        "id": "3jLMQ381WBe4",
        "outputId": "fd0042ab-e5cd-4007-d7bb-ef50793d5bbc"
      },
      "source": [
        "num[1:2]"
      ],
      "execution_count": null,
      "outputs": [
        {
          "output_type": "execute_result",
          "data": {
            "text/plain": [
              "[2]"
            ]
          },
          "metadata": {},
          "execution_count": 32
        }
      ]
    },
    {
      "cell_type": "code",
      "metadata": {
        "colab": {
          "base_uri": "https://localhost:8080/"
        },
        "id": "xOUAlVZFb1oI",
        "outputId": "7782216e-b6c2-483b-a7fc-0545dc4e909e"
      },
      "source": [
        "num[::2]"
      ],
      "execution_count": null,
      "outputs": [
        {
          "output_type": "execute_result",
          "data": {
            "text/plain": [
              "[1, 3]"
            ]
          },
          "metadata": {},
          "execution_count": 35
        }
      ]
    },
    {
      "cell_type": "code",
      "metadata": {
        "colab": {
          "base_uri": "https://localhost:8080/"
        },
        "id": "-jmNd8spb3QB",
        "outputId": "eff45b06-ce4a-47d4-ff68-00be23d3aeea"
      },
      "source": [
        "x=[1]*11\n",
        "print(x)"
      ],
      "execution_count": null,
      "outputs": [
        {
          "output_type": "stream",
          "name": "stdout",
          "text": [
            "[1, 1, 1, 1, 1, 1, 1, 1, 1, 1, 1]\n"
          ]
        }
      ]
    },
    {
      "cell_type": "code",
      "metadata": {
        "colab": {
          "base_uri": "https://localhost:8080/"
        },
        "id": "2p4bCi6jiK3J",
        "outputId": "17d5269a-6756-4199-8f1a-78ed7becabe3"
      },
      "source": [
        "city=\"pune\",\"karimnagar\"\n",
        "type(city)\n",
        "city"
      ],
      "execution_count": null,
      "outputs": [
        {
          "output_type": "execute_result",
          "data": {
            "text/plain": [
              "('pune', 'karimnagar')"
            ]
          },
          "metadata": {},
          "execution_count": 105
        }
      ]
    },
    {
      "cell_type": "code",
      "metadata": {
        "colab": {
          "base_uri": "https://localhost:8080/"
        },
        "id": "ASPUUf95juOu",
        "outputId": "c90571ec-bb22-4af5-a227-cd0b2ec217c1"
      },
      "source": [
        "tuple=(1,2,3,4)\n",
        "list=[5,6,7,8]\n",
        "list.append(9)\n",
        "\n",
        "print(tuple)#immutable=we cannot add\n",
        "print(list)#mutable=we can add"
      ],
      "execution_count": null,
      "outputs": [
        {
          "output_type": "stream",
          "name": "stdout",
          "text": [
            "(1, 2, 3, 4)\n",
            "[5, 6, 7, 8, 9]\n"
          ]
        }
      ]
    },
    {
      "cell_type": "code",
      "metadata": {
        "colab": {
          "base_uri": "https://localhost:8080/"
        },
        "id": "olmz8esdiNhl",
        "outputId": "fdfc6fc0-a601-400d-fe26-2e4d275bbdbe"
      },
      "source": [
        "num=1,2,3,4\n",
        "\n",
        "print(num+city)#concat"
      ],
      "execution_count": null,
      "outputs": [
        {
          "output_type": "stream",
          "name": "stdout",
          "text": [
            "(1, 2, 3, 4, 'pune', 'karimnagar')\n"
          ]
        }
      ]
    },
    {
      "cell_type": "code",
      "metadata": {
        "colab": {
          "base_uri": "https://localhost:8080/"
        },
        "id": "QTfW58_kmvMf",
        "outputId": "92fa8022-4fa9-4087-8cbd-83974f725260"
      },
      "source": [
        "rep=(\"Rohith\",)*5\n",
        "rep"
      ],
      "execution_count": null,
      "outputs": [
        {
          "output_type": "execute_result",
          "data": {
            "text/plain": [
              "('Rohith', 'Rohith', 'Rohith', 'Rohith', 'Rohith')"
            ]
          },
          "metadata": {},
          "execution_count": 113
        }
      ]
    },
    {
      "cell_type": "code",
      "metadata": {
        "id": "xSBg-sw2oaN8"
      },
      "source": [],
      "execution_count": null,
      "outputs": []
    },
    {
      "cell_type": "markdown",
      "metadata": {
        "id": "RqTEp2a5odGL"
      },
      "source": [
        "built in functions"
      ]
    },
    {
      "cell_type": "code",
      "metadata": {
        "colab": {
          "base_uri": "https://localhost:8080/"
        },
        "id": "tImBvyUsoi-n",
        "outputId": "be2205bd-d48e-4d17-9a99-5895ec6a41a1"
      },
      "source": [
        "num1=(5,8,9,5,2,6,8,9)\n",
        "num1.count(5)\n",
        "\n",
        "sum(num1)\n"
      ],
      "execution_count": null,
      "outputs": [
        {
          "output_type": "execute_result",
          "data": {
            "text/plain": [
              "52"
            ]
          },
          "metadata": {},
          "execution_count": 118
        }
      ]
    },
    {
      "cell_type": "code",
      "metadata": {
        "colab": {
          "base_uri": "https://localhost:8080/"
        },
        "id": "Ue2UkwMcpXTk",
        "outputId": "3d17bfb5-017b-406a-d9d3-03aa1d1ccc04"
      },
      "source": [
        "len(num1)"
      ],
      "execution_count": null,
      "outputs": [
        {
          "output_type": "execute_result",
          "data": {
            "text/plain": [
              "8"
            ]
          },
          "metadata": {},
          "execution_count": 120
        }
      ]
    },
    {
      "cell_type": "markdown",
      "metadata": {
        "id": "-b8Wu_Npplyr"
      },
      "source": [
        "#conversion of list to tuple"
      ]
    },
    {
      "cell_type": "code",
      "source": [],
      "metadata": {
        "id": "rinknTOGKwhF"
      },
      "execution_count": null,
      "outputs": []
    },
    {
      "cell_type": "code",
      "metadata": {
        "colab": {
          "base_uri": "https://localhost:8080/"
        },
        "id": "fU5Dkxtgpqct",
        "outputId": "168911b6-6394-4212-d7f0-3cecfcde69a2"
      },
      "source": [
        "lst=[1,2,3,4]\n",
        "print(type(lst))"
      ],
      "execution_count": null,
      "outputs": [
        {
          "output_type": "stream",
          "name": "stdout",
          "text": [
            "<class 'list'>\n"
          ]
        }
      ]
    },
    {
      "cell_type": "code",
      "metadata": {
        "colab": {
          "base_uri": "https://localhost:8080/",
          "height": 165
        },
        "id": "XZVCdi8-pbhy",
        "outputId": "27fde95a-dc73-4a2d-ac73-f6d1eac5adfd"
      },
      "source": [
        "tpl=tuple(lst)\n"
      ],
      "execution_count": null,
      "outputs": [
        {
          "output_type": "error",
          "ename": "TypeError",
          "evalue": "ignored",
          "traceback": [
            "\u001b[0;31m---------------------------------------------------------------------------\u001b[0m",
            "\u001b[0;31mTypeError\u001b[0m                                 Traceback (most recent call last)",
            "\u001b[0;32m<ipython-input-139-971146df7418>\u001b[0m in \u001b[0;36m<module>\u001b[0;34m()\u001b[0m\n\u001b[0;32m----> 1\u001b[0;31m \u001b[0mcan\u001b[0m\u001b[0;34m=\u001b[0m\u001b[0mtuple\u001b[0m\u001b[0;34m(\u001b[0m\u001b[0mlst\u001b[0m\u001b[0;34m)\u001b[0m\u001b[0;34m\u001b[0m\u001b[0;34m\u001b[0m\u001b[0m\n\u001b[0m",
            "\u001b[0;31mTypeError\u001b[0m: 'tuple' object is not callable"
          ]
        }
      ]
    },
    {
      "cell_type": "code",
      "metadata": {
        "colab": {
          "base_uri": "https://localhost:8080/"
        },
        "id": "UcnRyt7BsbnD",
        "outputId": "935803a7-6dd8-4a6f-8252-2cc6b84f93eb"
      },
      "source": [
        "lst=[(1,2,3),(4,5,6)]\n",
        "print(lst)"
      ],
      "execution_count": null,
      "outputs": [
        {
          "output_type": "stream",
          "name": "stdout",
          "text": [
            "[(1, 2, 3), (4, 5, 6)]\n"
          ]
        }
      ]
    },
    {
      "cell_type": "code",
      "metadata": {
        "colab": {
          "base_uri": "https://localhost:8080/"
        },
        "id": "0UQwMr44sn9W",
        "outputId": "3e2fbca0-ed46-4b99-9813-9aee345dc58b"
      },
      "source": [
        "lst.append((\"tuple\",\"list\"))\n",
        "print(lst)"
      ],
      "execution_count": null,
      "outputs": [
        {
          "output_type": "stream",
          "name": "stdout",
          "text": [
            "[(1, 2, 3), (4, 5, 6), ('tuple', 'list'), ('tuple', 'list')]\n"
          ]
        }
      ]
    },
    {
      "cell_type": "code",
      "metadata": {
        "colab": {
          "base_uri": "https://localhost:8080/",
          "height": 233
        },
        "id": "lixxwCKPtLdJ",
        "outputId": "8731c2bb-f98c-41e1-a73f-420475e49667"
      },
      "source": [
        "lst.remove((\"tuple\",\"list\"))\n",
        "print(lst)"
      ],
      "execution_count": null,
      "outputs": [
        {
          "output_type": "error",
          "ename": "NameError",
          "evalue": "ignored",
          "traceback": [
            "\u001b[0;31m---------------------------------------------------------------------------\u001b[0m",
            "\u001b[0;31mNameError\u001b[0m                                 Traceback (most recent call last)",
            "\u001b[0;32m<ipython-input-1-58cbccd9c3d1>\u001b[0m in \u001b[0;36m<module>\u001b[0;34m()\u001b[0m\n\u001b[0;32m----> 1\u001b[0;31m \u001b[0mlst\u001b[0m\u001b[0;34m.\u001b[0m\u001b[0mremove\u001b[0m\u001b[0;34m(\u001b[0m\u001b[0;34m(\u001b[0m\u001b[0;34m\"tuple\"\u001b[0m\u001b[0;34m,\u001b[0m\u001b[0;34m\"list\"\u001b[0m\u001b[0;34m)\u001b[0m\u001b[0;34m)\u001b[0m\u001b[0;34m\u001b[0m\u001b[0;34m\u001b[0m\u001b[0m\n\u001b[0m\u001b[1;32m      2\u001b[0m \u001b[0mprint\u001b[0m\u001b[0;34m(\u001b[0m\u001b[0mlst\u001b[0m\u001b[0;34m)\u001b[0m\u001b[0;34m\u001b[0m\u001b[0;34m\u001b[0m\u001b[0m\n",
            "\u001b[0;31mNameError\u001b[0m: name 'lst' is not defined"
          ]
        }
      ]
    },
    {
      "cell_type": "code",
      "metadata": {
        "colab": {
          "base_uri": "https://localhost:8080/"
        },
        "id": "papynVUtjEs3",
        "outputId": "818a389d-5487-493f-bd0c-0886b11f9c92"
      },
      "source": [
        "num=(1,2,3,4)\n",
        "print(num)"
      ],
      "execution_count": null,
      "outputs": [
        {
          "output_type": "stream",
          "name": "stdout",
          "text": [
            "(1, 2, 3, 4)\n"
          ]
        }
      ]
    },
    {
      "cell_type": "code",
      "metadata": {
        "colab": {
          "base_uri": "https://localhost:8080/"
        },
        "id": "leFa5jJ0j_Wi",
        "outputId": "ac0d7fce-ff7c-4250-d65b-791c47790cac"
      },
      "source": [
        "num"
      ],
      "execution_count": null,
      "outputs": [
        {
          "output_type": "execute_result",
          "data": {
            "text/plain": [
              "(1, 2, 3, 4)"
            ]
          },
          "metadata": {},
          "execution_count": 2
        }
      ]
    },
    {
      "cell_type": "markdown",
      "metadata": {
        "id": "eYIy-Z6RwmwY"
      },
      "source": [
        "#Slicing"
      ]
    },
    {
      "cell_type": "code",
      "metadata": {
        "colab": {
          "base_uri": "https://localhost:8080/"
        },
        "id": "a0fMP3grmBOx",
        "outputId": "e1901b47-a636-4810-c396-dca48f90c2c2"
      },
      "source": [
        "num[1::2]"
      ],
      "execution_count": null,
      "outputs": [
        {
          "output_type": "execute_result",
          "data": {
            "text/plain": [
              "(2, 4)"
            ]
          },
          "metadata": {},
          "execution_count": 7
        }
      ]
    },
    {
      "cell_type": "code",
      "metadata": {
        "colab": {
          "base_uri": "https://localhost:8080/"
        },
        "id": "UjGSVAGPnSkK",
        "outputId": "0f81c34a-0104-4491-e4f0-35d62f1fc0bb"
      },
      "source": [
        "lst=[1,2,3,4]\n",
        "print(type(lst))"
      ],
      "execution_count": null,
      "outputs": [
        {
          "output_type": "stream",
          "name": "stdout",
          "text": [
            "<class 'list'>\n"
          ]
        }
      ]
    },
    {
      "cell_type": "markdown",
      "metadata": {
        "id": "rIrImd3Y29l3"
      },
      "source": [
        "#Strings :collection of characters"
      ]
    },
    {
      "cell_type": "code",
      "metadata": {
        "colab": {
          "base_uri": "https://localhost:8080/"
        },
        "id": "Bk-O47g9oXMW",
        "outputId": "701bf5a2-ae30-4c31-e35d-ea106f0c9703"
      },
      "source": [
        "stg=\"RohithKumar\"\n",
        "print(stg)"
      ],
      "execution_count": null,
      "outputs": [
        {
          "output_type": "stream",
          "name": "stdout",
          "text": [
            "RohithKumar\n"
          ]
        }
      ]
    },
    {
      "cell_type": "code",
      "metadata": {
        "colab": {
          "base_uri": "https://localhost:8080/"
        },
        "id": "EGRNvIWloXf8",
        "outputId": "48e2f662-4712-4884-8e89-337a77ec0132"
      },
      "source": [
        "stg=\"\"\"hello\n",
        "Welcome\"\"\"    #3singe or doublequotes\n",
        "print(stg)    #to print multiple lines"
      ],
      "execution_count": null,
      "outputs": [
        {
          "output_type": "stream",
          "name": "stdout",
          "text": [
            "hello\n",
            "Welcome\n"
          ]
        }
      ]
    },
    {
      "cell_type": "code",
      "metadata": {
        "id": "DMmZLVY5DvHV"
      },
      "source": [],
      "execution_count": null,
      "outputs": []
    },
    {
      "cell_type": "code",
      "metadata": {
        "colab": {
          "base_uri": "https://localhost:8080/"
        },
        "id": "VNJD6nEXxK5V",
        "outputId": "912ff9c7-e994-470d-88d7-b4ee36497e78"
      },
      "source": [
        "stg=\"Rohith\"\n",
        "print(stg[0:6])\n",
        "print(stg[:4])\n",
        "print(stg[3:])\n",
        "print(stg.upper())\n",
        "print(stg.lower())\n",
        "print(stg.find('h'))#itlocates theposition\n",
        "print(stg.split())#it returns the list\n",
        "print(stg.replace(\"Rohith\",\"kumar\"))#replace with 2nd element"
      ],
      "execution_count": null,
      "outputs": [
        {
          "output_type": "stream",
          "name": "stdout",
          "text": [
            "Rohith\n",
            "Rohi\n",
            "ith\n",
            "ROHITH\n",
            "rohith\n",
            "2\n",
            "['Rohith']\n",
            "kumar\n"
          ]
        }
      ]
    },
    {
      "cell_type": "code",
      "metadata": {
        "colab": {
          "base_uri": "https://localhost:8080/"
        },
        "id": "98eVPmZC1t-v",
        "outputId": "5c01c0d7-bf1d-45a9-f162-ba7dbfe0e6cf"
      },
      "source": [
        "stg1=\"good\"\n",
        "stg2=\"morning\"\n",
        "print(stg1+\" \"+stg2)  #concat"
      ],
      "execution_count": null,
      "outputs": [
        {
          "output_type": "stream",
          "name": "stdout",
          "text": [
            "good morning\n"
          ]
        }
      ]
    },
    {
      "cell_type": "code",
      "metadata": {
        "colab": {
          "base_uri": "https://localhost:8080/"
        },
        "id": "Ze5wj6bTxnXe",
        "outputId": "afbf41c5-a28f-4149-b669-9956b5184b90"
      },
      "source": [
        "stg1=\"hey\"\n",
        "stg2=\"there\"\n",
        "stg3=\"all\"\n",
        "stg=\"{} {}, {}!\".format(stg1,stg2,stg3)\n",
        "print(stg) #{}specifies the stg1,2,3 placeholders"
      ],
      "execution_count": null,
      "outputs": [
        {
          "output_type": "stream",
          "name": "stdout",
          "text": [
            "hey there, all!\n"
          ]
        }
      ]
    },
    {
      "cell_type": "markdown",
      "metadata": {
        "id": "4f2A0W4z4fBh"
      },
      "source": [
        "#Dictionaries: Is an Unordered collection of  data stored as a pair of key and value.\n",
        "\n",
        "Syntax: variable_name={key1:value1,key2:value2,..}"
      ]
    },
    {
      "cell_type": "markdown",
      "metadata": {
        "id": "6vHhCHOh7pj1"
      },
      "source": [
        "#Creating dictionaries"
      ]
    },
    {
      "cell_type": "code",
      "metadata": {
        "colab": {
          "base_uri": "https://localhost:8080/"
        },
        "id": "3G8aFxJI4FiW",
        "outputId": "9afcf610-64f4-4148-e961-32e8511ee8c6"
      },
      "source": [
        "d1={1:\"apple\",2:\"ball\",3:\"cat\"}\n",
        "print(d1)"
      ],
      "execution_count": null,
      "outputs": [
        {
          "output_type": "stream",
          "name": "stdout",
          "text": [
            "{1: 'apple', 2: 'ball', 3: 'cat'}\n"
          ]
        }
      ]
    },
    {
      "cell_type": "code",
      "metadata": {
        "colab": {
          "base_uri": "https://localhost:8080/"
        },
        "id": "MamUp5ap6cfF",
        "outputId": "c81a3e6e-fffb-492c-a32e-4337af1221ba"
      },
      "source": [
        "d2={\"hello\":\"welcome\",\"karimnagar\":22,3:\"water\"}\n",
        "print(d2)"
      ],
      "execution_count": null,
      "outputs": [
        {
          "output_type": "stream",
          "name": "stdout",
          "text": [
            "{'hello': 'welcome', 'karimnagar': 22, 3: 'water'}\n"
          ]
        }
      ]
    },
    {
      "cell_type": "code",
      "metadata": {
        "colab": {
          "base_uri": "https://localhost:8080/"
        },
        "id": "xI1WvEpa7Wod",
        "outputId": "19cfd6fa-1eec-4a01-e5df-a89ba537ece1"
      },
      "source": [
        "\n",
        "d3=([1,\"apple\",2,\"ball\",3,\"cat\"])\n",
        "print(d3)"
      ],
      "execution_count": null,
      "outputs": [
        {
          "output_type": "stream",
          "name": "stdout",
          "text": [
            "[1, 'apple', 2, 'ball', 3, 'cat']\n"
          ]
        }
      ]
    },
    {
      "cell_type": "markdown",
      "metadata": {
        "id": "CSkARrzY8NC7"
      },
      "source": [
        "#adding elements"
      ]
    },
    {
      "cell_type": "code",
      "metadata": {
        "colab": {
          "base_uri": "https://localhost:8080/"
        },
        "id": "pgVBzamN8Fsr",
        "outputId": "c63d6394-0ec6-4b3b-dbf9-4fd5912d1f9e"
      },
      "source": [
        "d={}\n",
        "d[0]=\"welcome\"\n",
        "print(d)"
      ],
      "execution_count": null,
      "outputs": [
        {
          "output_type": "stream",
          "name": "stdout",
          "text": [
            "{0: 'welcome'}\n"
          ]
        }
      ]
    },
    {
      "cell_type": "code",
      "metadata": {
        "colab": {
          "base_uri": "https://localhost:8080/"
        },
        "id": "eb0vf5Ef8bJQ",
        "outputId": "92450287-169b-46e6-c355-e5f63f534582"
      },
      "source": [
        "d[1]=(\"how\",\"are\",\"you\")\n",
        "print(d)"
      ],
      "execution_count": null,
      "outputs": [
        {
          "output_type": "stream",
          "name": "stdout",
          "text": [
            "{0: 'welcome', 1: ('how', 'are', 'you')}\n"
          ]
        }
      ]
    },
    {
      "cell_type": "code",
      "metadata": {
        "colab": {
          "base_uri": "https://localhost:8080/"
        },
        "id": "g1QZrtft9E2z",
        "outputId": "01ec1185-27d0-47b9-db01-6d87a2350c0f"
      },
      "source": [
        "d[\"name\"]=\"rohith\"\n",
        "print(d)"
      ],
      "execution_count": null,
      "outputs": [
        {
          "output_type": "stream",
          "name": "stdout",
          "text": [
            "{0: 'welcome', 1: ('how', 'are', 'you'), 'name': 'rohith'}\n"
          ]
        }
      ]
    },
    {
      "cell_type": "markdown",
      "metadata": {
        "id": "IUTF38qn9dRY"
      },
      "source": [
        "#accessing elements"
      ]
    },
    {
      "cell_type": "code",
      "metadata": {
        "colab": {
          "base_uri": "https://localhost:8080/"
        },
        "id": "yB3-q11s9SPZ",
        "outputId": "50c6a029-df5f-4960-e41e-33cf348c58fa"
      },
      "source": [
        "print(d[1])\n",
        "print(d[\"name\"])\n",
        "print(d.get(1))"
      ],
      "execution_count": null,
      "outputs": [
        {
          "output_type": "stream",
          "name": "stdout",
          "text": [
            "('how', 'are', 'you')\n",
            "rohith\n",
            "('how', 'are', 'you')\n"
          ]
        }
      ]
    },
    {
      "cell_type": "markdown",
      "metadata": {
        "id": "YBhvGzUZ-PeL"
      },
      "source": [
        "#Deleting elements"
      ]
    },
    {
      "cell_type": "code",
      "metadata": {
        "colab": {
          "base_uri": "https://localhost:8080/"
        },
        "id": "oekAwjMG-_mS",
        "outputId": "57c9ae44-c9de-4415-fca2-61800336fff1"
      },
      "source": [
        "print(d)"
      ],
      "execution_count": null,
      "outputs": [
        {
          "output_type": "stream",
          "name": "stdout",
          "text": [
            "{0: 'welcome', 1: ('how', 'are', 'you')}\n"
          ]
        }
      ]
    },
    {
      "cell_type": "code",
      "metadata": {
        "colab": {
          "base_uri": "https://localhost:8080/"
        },
        "id": "IxWOrnw0_YgO",
        "outputId": "f0d487ec-ba16-4d5a-923a-30592fb946a7"
      },
      "source": [
        "d.pop(1)"
      ],
      "execution_count": null,
      "outputs": [
        {
          "output_type": "execute_result",
          "data": {
            "text/plain": [
              "('how', 'are', 'you')"
            ]
          },
          "metadata": {},
          "execution_count": 103
        }
      ]
    },
    {
      "cell_type": "code",
      "metadata": {
        "colab": {
          "base_uri": "https://localhost:8080/"
        },
        "id": "3P9EPUg1_d0n",
        "outputId": "cc2c4f20-72b1-4494-bf3f-ce589969acac"
      },
      "source": [
        "print(d)"
      ],
      "execution_count": null,
      "outputs": [
        {
          "output_type": "stream",
          "name": "stdout",
          "text": [
            "{0: 'welcome', 'name': 'rohith'}\n"
          ]
        }
      ]
    },
    {
      "cell_type": "code",
      "metadata": {
        "colab": {
          "base_uri": "https://localhost:8080/",
          "height": 233
        },
        "id": "Iyl6eute_gnu",
        "outputId": "7e7f673a-fa4b-4cd1-e4e5-d568ae4ead41"
      },
      "source": [
        "d.popitem()#it will delete the lastelement"
      ],
      "execution_count": null,
      "outputs": [
        {
          "output_type": "error",
          "ename": "NameError",
          "evalue": "ignored",
          "traceback": [
            "\u001b[0;31m---------------------------------------------------------------------------\u001b[0m",
            "\u001b[0;31mNameError\u001b[0m                                 Traceback (most recent call last)",
            "\u001b[0;32m<ipython-input-3-ef73db01fede>\u001b[0m in \u001b[0;36m<module>\u001b[0;34m()\u001b[0m\n\u001b[0;32m----> 1\u001b[0;31m \u001b[0md\u001b[0m\u001b[0;34m.\u001b[0m\u001b[0mpopitem\u001b[0m\u001b[0;34m(\u001b[0m\u001b[0;34m)\u001b[0m\u001b[0;31m#it will delete the lastelement\u001b[0m\u001b[0;34m\u001b[0m\u001b[0;34m\u001b[0m\u001b[0m\n\u001b[0m",
            "\u001b[0;31mNameError\u001b[0m: name 'd' is not defined"
          ]
        }
      ]
    },
    {
      "cell_type": "code",
      "metadata": {
        "colab": {
          "base_uri": "https://localhost:8080/"
        },
        "id": "wo58pdKf_qQ7",
        "outputId": "a98ebcc7-80d8-4ba7-f388-9d90f33cfa53"
      },
      "source": [
        "print(d)"
      ],
      "execution_count": null,
      "outputs": [
        {
          "output_type": "stream",
          "name": "stdout",
          "text": [
            "{0: 'welcome', 1: ('how', 'are', 'you'), 'name': 'rohith'}\n"
          ]
        }
      ]
    },
    {
      "cell_type": "markdown",
      "metadata": {
        "id": "9O6amQtYAWsn"
      },
      "source": [
        "#using built-in functions"
      ]
    },
    {
      "cell_type": "code",
      "metadata": {
        "colab": {
          "base_uri": "https://localhost:8080/"
        },
        "id": "YBDTlPC4AavG",
        "outputId": "0c63b0d4-aeba-465e-88ee-3906d10e886d"
      },
      "source": [
        "d.values()"
      ],
      "execution_count": null,
      "outputs": [
        {
          "output_type": "execute_result",
          "data": {
            "text/plain": [
              "dict_values(['welcome', ('how', 'are', 'you'), 'rohith'])"
            ]
          },
          "metadata": {},
          "execution_count": 15
        }
      ]
    },
    {
      "cell_type": "code",
      "metadata": {
        "colab": {
          "base_uri": "https://localhost:8080/"
        },
        "id": "RcR-KC2SA2qI",
        "outputId": "a655359f-5a4d-4968-ecf6-91b441888830"
      },
      "source": [
        "keys={'a','b','c','d'}\n",
        "value=1\n",
        "dict.fromkeys(keys,value)"
      ],
      "execution_count": null,
      "outputs": [
        {
          "output_type": "execute_result",
          "data": {
            "text/plain": [
              "{'a': 1, 'b': 1, 'c': 1, 'd': 1}"
            ]
          },
          "metadata": {},
          "execution_count": 16
        }
      ]
    },
    {
      "cell_type": "code",
      "metadata": {
        "id": "14Zjqp7xvgLZ"
      },
      "source": [
        "d.clear()"
      ],
      "execution_count": null,
      "outputs": []
    },
    {
      "cell_type": "code",
      "metadata": {
        "colab": {
          "base_uri": "https://localhost:8080/"
        },
        "id": "MjEE4GuPwFc7",
        "outputId": "c1513b40-7238-43d3-943c-56b658447913"
      },
      "source": [
        "print(d)"
      ],
      "execution_count": null,
      "outputs": [
        {
          "output_type": "stream",
          "name": "stdout",
          "text": [
            "{}\n"
          ]
        }
      ]
    },
    {
      "cell_type": "markdown",
      "metadata": {
        "id": "61Ys6_9cwO2Y"
      },
      "source": [
        "#set: is an Unordered collection of unique elements.\n",
        "\n",
        "syntax: variable_name=(['a','b','c','d'])"
      ]
    },
    {
      "cell_type": "code",
      "metadata": {
        "colab": {
          "base_uri": "https://localhost:8080/"
        },
        "id": "fq1BAdHRwohE",
        "outputId": "ef87ff3a-0dc7-4a2b-b222-ffbae6167ddf"
      },
      "source": [
        "s=set([1,2,3,4])\n",
        "print(s)\n",
        "print(type(s))"
      ],
      "execution_count": null,
      "outputs": [
        {
          "output_type": "stream",
          "name": "stdout",
          "text": [
            "{1, 2, 3, 4}\n",
            "<class 'set'>\n"
          ]
        }
      ]
    },
    {
      "cell_type": "code",
      "metadata": {
        "colab": {
          "base_uri": "https://localhost:8080/"
        },
        "id": "o4yLL-rKxh_k",
        "outputId": "5ea3da94-3ca5-44f0-8e5a-38998dcd4dd0"
      },
      "source": [
        "s.add(5)\n",
        "# sets are mutable we can add elements\n",
        "print(s)"
      ],
      "execution_count": null,
      "outputs": [
        {
          "output_type": "stream",
          "name": "stdout",
          "text": [
            "{1, 2, 3, 4, 5}\n"
          ]
        }
      ]
    },
    {
      "cell_type": "code",
      "metadata": {
        "id": "ZYjUOrulx1PS"
      },
      "source": [
        "s1=set([1,3,6,8])\n",
        "s2=set([3,5,8,9])"
      ],
      "execution_count": null,
      "outputs": []
    },
    {
      "cell_type": "code",
      "metadata": {
        "colab": {
          "base_uri": "https://localhost:8080/"
        },
        "id": "361n1XLuzEPl",
        "outputId": "18d5a137-cb3d-4d7c-db92-b45b1a8dc2c0"
      },
      "source": [
        "s1.union(s2)"
      ],
      "execution_count": null,
      "outputs": [
        {
          "output_type": "execute_result",
          "data": {
            "text/plain": [
              "{1, 3, 5, 6, 8, 9}"
            ]
          },
          "metadata": {},
          "execution_count": 29
        }
      ]
    },
    {
      "cell_type": "code",
      "metadata": {
        "colab": {
          "base_uri": "https://localhost:8080/"
        },
        "id": "o9UxxoX6zdM4",
        "outputId": "728e928c-c128-4c89-b487-a5593795d445"
      },
      "source": [
        "s1.difference(s2)"
      ],
      "execution_count": null,
      "outputs": [
        {
          "output_type": "execute_result",
          "data": {
            "text/plain": [
              "{1, 6}"
            ]
          },
          "metadata": {},
          "execution_count": 30
        }
      ]
    },
    {
      "cell_type": "code",
      "metadata": {
        "colab": {
          "base_uri": "https://localhost:8080/"
        },
        "id": "MkszqCeazkVQ",
        "outputId": "44f71aca-99fb-4bae-8cc0-9db2afe9d6e5"
      },
      "source": [
        "s1.intersection(s2)"
      ],
      "execution_count": null,
      "outputs": [
        {
          "output_type": "execute_result",
          "data": {
            "text/plain": [
              "{3, 8}"
            ]
          },
          "metadata": {},
          "execution_count": 31
        }
      ]
    },
    {
      "cell_type": "markdown",
      "metadata": {
        "id": "pqdZT-BX0nNP"
      },
      "source": [
        "#if else stmt"
      ]
    },
    {
      "cell_type": "code",
      "metadata": {
        "colab": {
          "base_uri": "https://localhost:8080/"
        },
        "id": "OEQsFFiVzy5O",
        "outputId": "fdae241f-6c83-4bd0-a098-3e90ec29e6c0"
      },
      "source": [
        "i=20\n",
        "if i%2==0:\n",
        "   print(\"this is the if block\")\n",
        "   print(\"i is an even number\")\n",
        "else:\n",
        "     print(\"This is the else block\")\n",
        "     print(\"i is an odd number\")"
      ],
      "execution_count": null,
      "outputs": [
        {
          "output_type": "stream",
          "name": "stdout",
          "text": [
            "this is the if block\n",
            "i is an even number\n"
          ]
        }
      ]
    },
    {
      "cell_type": "code",
      "source": [
        "i=2\n",
        "if i<3:\n",
        "   print(\"true\")\n",
        "   print(\"false\")"
      ],
      "metadata": {
        "colab": {
          "base_uri": "https://localhost:8080/"
        },
        "id": "K2RjB8pCUh0n",
        "outputId": "02b75f27-4555-4c0f-c8b5-106b08e59780"
      },
      "execution_count": null,
      "outputs": [
        {
          "output_type": "stream",
          "name": "stdout",
          "text": [
            "true\n",
            "false\n"
          ]
        }
      ]
    },
    {
      "cell_type": "markdown",
      "metadata": {
        "id": "b95BwtAWB13N"
      },
      "source": [
        "#loops: it is an instruction that repeats multiple times as long as some condition met."
      ]
    },
    {
      "cell_type": "code",
      "metadata": {
        "colab": {
          "base_uri": "https://localhost:8080/"
        },
        "id": "MluwLvpvB36s",
        "outputId": "ba9b17a8-3751-4a01-80e4-a6305bceba8a"
      },
      "source": [
        "\n",
        "val=int(input(\"enter a multiple of 7\"))\n",
        "while val%7 !=0:\n",
        "       val=int(input(\"enter a multiple of 7\"))\n",
        "else:\n",
        "     print(\"%d is a multiple of 7\" %val)"
      ],
      "execution_count": null,
      "outputs": [
        {
          "output_type": "stream",
          "name": "stdout",
          "text": [
            "enter a multiple of 753\n",
            "enter a multiple of 735\n",
            "35 is a multiple of 7\n"
          ]
        }
      ]
    },
    {
      "cell_type": "code",
      "metadata": {
        "colab": {
          "base_uri": "https://localhost:8080/"
        },
        "id": "ElHeT1yZGY2r",
        "outputId": "cbda8fff-b2e4-4509-f922-30c57c333f91"
      },
      "source": [
        "x=[1,4,'a','rohith']\n",
        "for i in x:\n",
        "#i willbe incremented by 1every time\n",
        " when you goback to the forloop\n",
        " print(i)"
      ],
      "execution_count": null,
      "outputs": [
        {
          "output_type": "stream",
          "name": "stdout",
          "text": [
            "1\n",
            "4\n",
            "a\n",
            "rohith\n"
          ]
        }
      ]
    },
    {
      "cell_type": "code",
      "metadata": {
        "colab": {
          "base_uri": "https://localhost:8080/"
        },
        "id": "VhmT7H10H39N",
        "outputId": "7574df1e-437c-478f-fb5f-747d2772c4ee"
      },
      "source": [
        "a=\"Rohith\"\n",
        "for i in a:\n",
        " print(i)"
      ],
      "execution_count": null,
      "outputs": [
        {
          "output_type": "stream",
          "name": "stdout",
          "text": [
            "R\n",
            "o\n",
            "h\n",
            "i\n",
            "t\n",
            "h\n"
          ]
        }
      ]
    },
    {
      "cell_type": "code",
      "metadata": {
        "colab": {
          "base_uri": "https://localhost:8080/",
          "height": 148
        },
        "id": "E5JtiT-LI3jE",
        "outputId": "4b9c6a94-dfc8-4041-dd5f-03ebdf7138c9"
      },
      "source": [
        "#nested loop\n",
        "x=[1,2,3],['a','b','c']\n",
        " for i in x :\n",
        " for j in i :\n",
        "     print(j, end=\"\")"
      ],
      "execution_count": null,
      "outputs": [
        {
          "output_type": "error",
          "ename": "IndentationError",
          "evalue": "ignored",
          "traceback": [
            "\u001b[0;36m  File \u001b[0;32m\"<ipython-input-115-673196346caa>\"\u001b[0;36m, line \u001b[0;32m3\u001b[0m\n\u001b[0;31m    for i in x :\u001b[0m\n\u001b[0m    ^\u001b[0m\n\u001b[0;31mIndentationError\u001b[0m\u001b[0;31m:\u001b[0m unexpected indent\n"
          ]
        }
      ]
    },
    {
      "cell_type": "markdown",
      "metadata": {
        "id": "2eqvaZqM6Evt"
      },
      "source": [
        "#identifiers\n",
        "S\n",
        "Allowed characters are a-b,A-B,0-9,_\n",
        "It should start with a-b but notwith digits 0-9\n",
        "Python is case-sensitive it may be a-b or A-B"
      ]
    },
    {
      "cell_type": "code",
      "metadata": {
        "id": "KAnPD_ib666B"
      },
      "source": [
        "cash=10\n",
        "_CASH=20\n",
        "Cash=30"
      ],
      "execution_count": null,
      "outputs": []
    },
    {
      "cell_type": "code",
      "metadata": {
        "colab": {
          "base_uri": "https://localhost:8080/"
        },
        "id": "sNdtCUwB7CZQ",
        "outputId": "f544bded-c38a-4dcf-86ea-bba30c97ccc5"
      },
      "source": [
        "print(cash)\n",
        "print(_CASH)\n",
        "print(Cash)"
      ],
      "execution_count": null,
      "outputs": [
        {
          "output_type": "stream",
          "name": "stdout",
          "text": [
            "10\n",
            "20\n",
            "30\n"
          ]
        }
      ]
    },
    {
      "cell_type": "markdown",
      "metadata": {
        "id": "3hquRM2_-AuO"
      },
      "source": [
        "Reserved words"
      ]
    },
    {
      "cell_type": "code",
      "metadata": {
        "colab": {
          "base_uri": "https://localhost:8080/"
        },
        "id": "euao_sBd_QiT",
        "outputId": "09cda8e0-b58e-495d-a2ed-1fd8e9cd6a08"
      },
      "source": [
        "import keyword\n",
        "keyword.kwlist"
      ],
      "execution_count": null,
      "outputs": [
        {
          "output_type": "execute_result",
          "data": {
            "text/plain": [
              "['False',\n",
              " 'None',\n",
              " 'True',\n",
              " 'and',\n",
              " 'as',\n",
              " 'assert',\n",
              " 'async',\n",
              " 'await',\n",
              " 'break',\n",
              " 'class',\n",
              " 'continue',\n",
              " 'def',\n",
              " 'del',\n",
              " 'elif',\n",
              " 'else',\n",
              " 'except',\n",
              " 'finally',\n",
              " 'for',\n",
              " 'from',\n",
              " 'global',\n",
              " 'if',\n",
              " 'import',\n",
              " 'in',\n",
              " 'is',\n",
              " 'lambda',\n",
              " 'nonlocal',\n",
              " 'not',\n",
              " 'or',\n",
              " 'pass',\n",
              " 'raise',\n",
              " 'return',\n",
              " 'try',\n",
              " 'while',\n",
              " 'with',\n",
              " 'yield']"
            ]
          },
          "metadata": {},
          "execution_count": 19
        }
      ]
    },
    {
      "cell_type": "code",
      "metadata": {
        "id": "Du48V5_FBZQ2"
      },
      "source": [
        "a=10"
      ],
      "execution_count": null,
      "outputs": []
    },
    {
      "cell_type": "code",
      "metadata": {
        "colab": {
          "base_uri": "https://localhost:8080/"
        },
        "id": "yejnqDMjBbbY",
        "outputId": "49f5aa3e-7e69-4308-de0c-9ceeb3155ff5"
      },
      "source": [
        "id(a)#address of a"
      ],
      "execution_count": null,
      "outputs": [
        {
          "output_type": "execute_result",
          "data": {
            "text/plain": [
              "94408841632544"
            ]
          },
          "metadata": {},
          "execution_count": 25
        }
      ]
    },
    {
      "cell_type": "markdown",
      "metadata": {
        "id": "5Q9jmOknDDW7"
      },
      "source": [
        "Data types are:int,float,boolean, complex,str,etc.."
      ]
    },
    {
      "cell_type": "markdown",
      "metadata": {
        "id": "wWSxF39ND9xk"
      },
      "source": [
        "#triple quotes: To define multiple lines of code or string literals.\n",
        "single or double quote"
      ]
    },
    {
      "cell_type": "code",
      "metadata": {
        "id": "OdR1ZVzwDNIE"
      },
      "source": [
        "a='''hello\n",
        "Good\n",
        "Morning'''"
      ],
      "execution_count": null,
      "outputs": []
    },
    {
      "cell_type": "code",
      "metadata": {
        "colab": {
          "base_uri": "https://localhost:8080/"
        },
        "id": "yHVEb3RyEpq1",
        "outputId": "eea73026-c74b-49be-913f-b76cec26b94e"
      },
      "source": [
        "print(a)"
      ],
      "execution_count": null,
      "outputs": [
        {
          "output_type": "stream",
          "name": "stdout",
          "text": [
            "hello\n",
            "Good\n",
            "Morning\n"
          ]
        }
      ]
    },
    {
      "cell_type": "markdown",
      "metadata": {
        "id": "qCZjNQs2GKAd"
      },
      "source": [
        "#slice operator:s[begin:end]\n",
        "Starts from begin to end-1"
      ]
    },
    {
      "cell_type": "code",
      "metadata": {
        "id": "zZ1kESWqGdHx"
      },
      "source": [
        "a='abcdefgh'"
      ],
      "execution_count": null,
      "outputs": []
    },
    {
      "cell_type": "code",
      "metadata": {
        "colab": {
          "base_uri": "https://localhost:8080/"
        },
        "id": "OZAQEwMgGsiP",
        "outputId": "68a5c107-5329-44e0-8069-c72509f464fc"
      },
      "source": [
        "print(a[2:5])"
      ],
      "execution_count": null,
      "outputs": [
        {
          "output_type": "stream",
          "name": "stdout",
          "text": [
            "cde\n"
          ]
        }
      ]
    },
    {
      "cell_type": "code",
      "metadata": {
        "colab": {
          "base_uri": "https://localhost:8080/"
        },
        "id": "fFXhxZlKIOvn",
        "outputId": "e4fff5f6-8d51-4d68-cbd8-e8e06f552bde"
      },
      "source": [
        "print(a[3:1000])"
      ],
      "execution_count": null,
      "outputs": [
        {
          "output_type": "stream",
          "name": "stdout",
          "text": [
            "defgh\n"
          ]
        }
      ]
    },
    {
      "cell_type": "code",
      "metadata": {
        "colab": {
          "base_uri": "https://localhost:8080/"
        },
        "id": "EYmbmvTrId00",
        "outputId": "733e3694-1e58-49e3-e74f-38858a12af55"
      },
      "source": [
        "print(a[5:1])#we get empty string"
      ],
      "execution_count": null,
      "outputs": [
        {
          "output_type": "stream",
          "name": "stdout",
          "text": [
            "\n"
          ]
        }
      ]
    },
    {
      "cell_type": "code",
      "metadata": {
        "id": "oVq0_UnlI3tN"
      },
      "source": [
        "a='rohith'\n",
        "str=a[:5]+a[-1]#start:end-1"
      ],
      "execution_count": null,
      "outputs": []
    },
    {
      "cell_type": "code",
      "metadata": {
        "colab": {
          "base_uri": "https://localhost:8080/"
        },
        "id": "Jc92zkpVhXfM",
        "outputId": "40b747ae-0db1-4082-bc53-f5e8c5c9d70f"
      },
      "source": [
        "print(str)"
      ],
      "execution_count": null,
      "outputs": [
        {
          "output_type": "stream",
          "name": "stdout",
          "text": [
            "rohith\n"
          ]
        }
      ]
    },
    {
      "cell_type": "code",
      "metadata": {
        "colab": {
          "base_uri": "https://localhost:8080/"
        },
        "id": "pQCAqw-GiPgO",
        "outputId": "f495daae-1a3d-4ecf-e4d2-e5f43ac17448"
      },
      "source": [
        "s=a[0].upper()+a[1:5]+a[5].upper()\n",
        "print(s)"
      ],
      "execution_count": null,
      "outputs": [
        {
          "output_type": "stream",
          "name": "stdout",
          "text": [
            "RohitH\n"
          ]
        }
      ]
    },
    {
      "cell_type": "markdown",
      "metadata": {
        "id": "dDLgKDtRlALC"
      },
      "source": [
        "#+and* operator"
      ]
    },
    {
      "cell_type": "code",
      "metadata": {
        "colab": {
          "base_uri": "https://localhost:8080/"
        },
        "id": "B2BRrKBSjULj",
        "outputId": "877fa494-4135-4cb7-8c42-5d791600e953"
      },
      "source": [
        "s='rohith'+'10'#python can concatenate only both strs not int\n",
        "print(s)"
      ],
      "execution_count": null,
      "outputs": [
        {
          "output_type": "stream",
          "name": "stdout",
          "text": [
            "rohith10\n"
          ]
        }
      ]
    },
    {
      "cell_type": "code",
      "metadata": {
        "colab": {
          "base_uri": "https://localhost:8080/"
        },
        "id": "Zrud6mKDj7E2",
        "outputId": "5a6ecd9c-ded3-4f8c-93de-b71a3ff20af4"
      },
      "source": [
        "s='rohith'*3\n",
        "print(s)"
      ],
      "execution_count": null,
      "outputs": [
        {
          "output_type": "stream",
          "name": "stdout",
          "text": [
            "rohithrohithrohith\n"
          ]
        }
      ]
    },
    {
      "cell_type": "code",
      "metadata": {
        "colab": {
          "base_uri": "https://localhost:8080/"
        },
        "id": "KLTLzdmKkbhi",
        "outputId": "8a761f9e-da06-4cac-b3cb-bd03757d684e"
      },
      "source": [
        "s=3*'rohith' #one should be int type and the other should be str\n",
        "print(s)"
      ],
      "execution_count": null,
      "outputs": [
        {
          "output_type": "stream",
          "name": "stdout",
          "text": [
            "rohithrohithrohith\n"
          ]
        }
      ]
    },
    {
      "cell_type": "code",
      "metadata": {
        "colab": {
          "base_uri": "https://localhost:8080/"
        },
        "id": "B0C3EELilImC",
        "outputId": "3d255963-3353-4eaf-b071-b28bd30d4c37"
      },
      "source": [
        "print('$'*3)\n",
        "print(4*'@')\n",
        "print('str'+'ing')"
      ],
      "execution_count": null,
      "outputs": [
        {
          "output_type": "stream",
          "name": "stdout",
          "text": [
            "$$$\n",
            "@@@@\n",
            "string\n"
          ]
        }
      ]
    },
    {
      "cell_type": "markdown",
      "metadata": {
        "id": "WIdYqUcXmDp9"
      },
      "source": [
        "#type casting"
      ]
    },
    {
      "cell_type": "code",
      "metadata": {
        "colab": {
          "base_uri": "https://localhost:8080/"
        },
        "id": "ONSVoxZKmGUn",
        "outputId": "36a4b5ed-e359-46a0-861b-92e3fec162f8"
      },
      "source": [
        "int(10.345)#float to int"
      ],
      "execution_count": null,
      "outputs": [
        {
          "output_type": "execute_result",
          "data": {
            "text/plain": [
              "1"
            ]
          },
          "metadata": {},
          "execution_count": 36
        }
      ]
    },
    {
      "cell_type": "code",
      "metadata": {
        "colab": {
          "base_uri": "https://localhost:8080/"
        },
        "id": "EIpShU6Dqcl_",
        "outputId": "2bacc3a3-1d10-459e-8405-2794e1fe01f0"
      },
      "source": [
        "int(True)#bool to int\n",
        "#complex to int not possible (12+25j)"
      ],
      "execution_count": null,
      "outputs": [
        {
          "output_type": "execute_result",
          "data": {
            "text/plain": [
              "1"
            ]
          },
          "metadata": {},
          "execution_count": 46
        }
      ]
    },
    {
      "cell_type": "code",
      "metadata": {
        "colab": {
          "base_uri": "https://localhost:8080/"
        },
        "id": "QtV9k7zLrUYn",
        "outputId": "37a6b0ca-2961-4e55-c467-8245291d0405"
      },
      "source": [
        "int('15')#str can convert to int\n",
        "#Only if ther is integer num"
      ],
      "execution_count": null,
      "outputs": [
        {
          "output_type": "execute_result",
          "data": {
            "text/plain": [
              "15"
            ]
          },
          "metadata": {},
          "execution_count": 39
        }
      ]
    },
    {
      "cell_type": "code",
      "metadata": {
        "colab": {
          "base_uri": "https://localhost:8080/"
        },
        "id": "L_kKkt0tr7r_",
        "outputId": "c8e55d63-186d-4673-f1fd-09b32db79349"
      },
      "source": [
        "float(15)#int to float"
      ],
      "execution_count": null,
      "outputs": [
        {
          "output_type": "execute_result",
          "data": {
            "text/plain": [
              "15.0"
            ]
          },
          "metadata": {},
          "execution_count": 40
        }
      ]
    },
    {
      "cell_type": "code",
      "metadata": {
        "colab": {
          "base_uri": "https://localhost:8080/"
        },
        "id": "tR1pLCwGr-sN",
        "outputId": "83df690a-f78f-4c12-eace-b8d14b8fd6b1"
      },
      "source": [
        "float(0B111)#int to float(binary form)"
      ],
      "execution_count": null,
      "outputs": [
        {
          "output_type": "execute_result",
          "data": {
            "text/plain": [
              "7.0"
            ]
          },
          "metadata": {},
          "execution_count": 47
        }
      ]
    },
    {
      "cell_type": "code",
      "metadata": {
        "colab": {
          "base_uri": "https://localhost:8080/"
        },
        "id": "yz83thnMsjWZ",
        "outputId": "caec9db7-1e15-479b-dfa2-9af458964aa2"
      },
      "source": [
        "float(True)"
      ],
      "execution_count": null,
      "outputs": [
        {
          "output_type": "execute_result",
          "data": {
            "text/plain": [
              "1.0"
            ]
          },
          "metadata": {},
          "execution_count": 48
        }
      ]
    },
    {
      "cell_type": "code",
      "metadata": {
        "colab": {
          "base_uri": "https://localhost:8080/"
        },
        "id": "YpFcByIEs5hh",
        "outputId": "ed438609-7a2b-492b-d873-a36124c19e4a"
      },
      "source": [
        "float('10')# str should contain either int or float value base-10"
      ],
      "execution_count": null,
      "outputs": [
        {
          "output_type": "execute_result",
          "data": {
            "text/plain": [
              "10.0"
            ]
          },
          "metadata": {},
          "execution_count": 49
        }
      ]
    },
    {
      "cell_type": "code",
      "metadata": {
        "colab": {
          "base_uri": "https://localhost:8080/"
        },
        "id": "N5b_UBpQtLmV",
        "outputId": "ccc09de0-c2d4-4dda-f70f-fc7e52f8168c"
      },
      "source": [
        "float('10.5')"
      ],
      "execution_count": null,
      "outputs": [
        {
          "output_type": "execute_result",
          "data": {
            "text/plain": [
              "10.5"
            ]
          },
          "metadata": {},
          "execution_count": 50
        }
      ]
    },
    {
      "cell_type": "code",
      "metadata": {
        "colab": {
          "base_uri": "https://localhost:8080/"
        },
        "id": "BPmxD6EmtVaA",
        "outputId": "93e28e87-bb83-4d57-ef31-657adff76b6a"
      },
      "source": [
        "complex(10)#int to complex"
      ],
      "execution_count": null,
      "outputs": [
        {
          "output_type": "execute_result",
          "data": {
            "text/plain": [
              "(10+0j)"
            ]
          },
          "metadata": {},
          "execution_count": 52
        }
      ]
    },
    {
      "cell_type": "code",
      "metadata": {
        "colab": {
          "base_uri": "https://localhost:8080/"
        },
        "id": "cQ0pfTYquVn5",
        "outputId": "e2848101-cfa2-4da6-b30c-221bc6f80892"
      },
      "source": [
        "complex (0B1111)"
      ],
      "execution_count": null,
      "outputs": [
        {
          "output_type": "execute_result",
          "data": {
            "text/plain": [
              "(15+0j)"
            ]
          },
          "metadata": {},
          "execution_count": 53
        }
      ]
    },
    {
      "cell_type": "code",
      "metadata": {
        "colab": {
          "base_uri": "https://localhost:8080/"
        },
        "id": "MBURnknRubDA",
        "outputId": "9148a9cb-3c43-4538-9093-cdf147832d6a"
      },
      "source": [
        "complex(10.5)#float to complex"
      ],
      "execution_count": null,
      "outputs": [
        {
          "output_type": "execute_result",
          "data": {
            "text/plain": [
              "(10.5+0j)"
            ]
          },
          "metadata": {},
          "execution_count": 54
        }
      ]
    },
    {
      "cell_type": "code",
      "metadata": {
        "colab": {
          "base_uri": "https://localhost:8080/"
        },
        "id": "kQThlJLQuhav",
        "outputId": "75a5ecb2-6f27-4dee-8810-6135226ef7d4"
      },
      "source": [
        "complex (True)#bool to complex"
      ],
      "execution_count": null,
      "outputs": [
        {
          "output_type": "execute_result",
          "data": {
            "text/plain": [
              "(1+0j)"
            ]
          },
          "metadata": {},
          "execution_count": 55
        }
      ]
    },
    {
      "cell_type": "code",
      "metadata": {
        "colab": {
          "base_uri": "https://localhost:8080/"
        },
        "id": "lYZYe6OvuwLV",
        "outputId": "fbed3fec-ce9e-473e-98a4-4c032ab841bf"
      },
      "source": [
        "complex ('10')#str to complex it should contain only int or float not str"
      ],
      "execution_count": null,
      "outputs": [
        {
          "output_type": "execute_result",
          "data": {
            "text/plain": [
              "(10+0j)"
            ]
          },
          "metadata": {},
          "execution_count": 57
        }
      ]
    },
    {
      "cell_type": "code",
      "metadata": {
        "colab": {
          "base_uri": "https://localhost:8080/"
        },
        "id": "WNuHciS2u3kP",
        "outputId": "ee058ee5-e2d1-464e-8cab-1927eac49e9c"
      },
      "source": [
        "complex('4.5')"
      ],
      "execution_count": null,
      "outputs": [
        {
          "output_type": "execute_result",
          "data": {
            "text/plain": [
              "(4.5+0j)"
            ]
          },
          "metadata": {},
          "execution_count": 60
        }
      ]
    },
    {
      "cell_type": "code",
      "metadata": {
        "colab": {
          "base_uri": "https://localhost:8080/"
        },
        "id": "fGGA4LWdvMhN",
        "outputId": "bce7a668-65d1-42ee-f9b0-18afadcabff3"
      },
      "source": [
        "complex (10,34)"
      ],
      "execution_count": null,
      "outputs": [
        {
          "output_type": "execute_result",
          "data": {
            "text/plain": [
              "(10+34j)"
            ]
          },
          "metadata": {},
          "execution_count": 61
        }
      ]
    },
    {
      "cell_type": "code",
      "metadata": {
        "colab": {
          "base_uri": "https://localhost:8080/"
        },
        "id": "5ILK4FeIvWT3",
        "outputId": "b9577cf9-7505-4516-d80e-75dcc29b3be3"
      },
      "source": [
        "complex(12.3,41.5)"
      ],
      "execution_count": null,
      "outputs": [
        {
          "output_type": "execute_result",
          "data": {
            "text/plain": [
              "(12.3+41.5j)"
            ]
          },
          "metadata": {},
          "execution_count": 62
        }
      ]
    },
    {
      "cell_type": "code",
      "metadata": {
        "colab": {
          "base_uri": "https://localhost:8080/",
          "height": 250
        },
        "id": "wE2vuqZ3vqfC",
        "outputId": "8146ec34-5fe1-4d66-f0a5-65626205c271"
      },
      "source": [
        "complex('10','20')"
      ],
      "execution_count": null,
      "outputs": [
        {
          "output_type": "error",
          "ename": "TypeError",
          "evalue": "ignored",
          "traceback": [
            "\u001b[0;31m---------------------------------------------------------------------------\u001b[0m",
            "\u001b[0;31mTypeError\u001b[0m                                 Traceback (most recent call last)",
            "\u001b[0;32m<ipython-input-63-6e08c4d01917>\u001b[0m in \u001b[0;36m<module>\u001b[0;34m()\u001b[0m\n\u001b[0;32m----> 1\u001b[0;31m \u001b[0mcomplex\u001b[0m\u001b[0;34m(\u001b[0m\u001b[0;34m'10'\u001b[0m\u001b[0;34m,\u001b[0m\u001b[0;34m'20'\u001b[0m\u001b[0;34m)\u001b[0m\u001b[0;34m\u001b[0m\u001b[0;34m\u001b[0m\u001b[0m\n\u001b[0m",
            "\u001b[0;31mTypeError\u001b[0m: complex() can't take second arg if first is a string"
          ]
        }
      ]
    },
    {
      "cell_type": "code",
      "metadata": {
        "colab": {
          "base_uri": "https://localhost:8080/"
        },
        "id": "75DkZf8TwS-_",
        "outputId": "e064a818-7875-41af-8d08-8d7ead62e868"
      },
      "source": [
        "bool(10)#if value is 0 then false otherwise true"
      ],
      "execution_count": null,
      "outputs": [
        {
          "output_type": "execute_result",
          "data": {
            "text/plain": [
              "True"
            ]
          },
          "metadata": {},
          "execution_count": 66
        }
      ]
    },
    {
      "cell_type": "code",
      "metadata": {
        "colab": {
          "base_uri": "https://localhost:8080/"
        },
        "id": "o2cY2kn_wfvr",
        "outputId": "912074fb-e666-4959-be3e-cd1364015818"
      },
      "source": [
        "bool(0)"
      ],
      "execution_count": null,
      "outputs": [
        {
          "output_type": "execute_result",
          "data": {
            "text/plain": [
              "False"
            ]
          },
          "metadata": {},
          "execution_count": 68
        }
      ]
    },
    {
      "cell_type": "code",
      "metadata": {
        "colab": {
          "base_uri": "https://localhost:8080/"
        },
        "id": "mS8SmELLwtq_",
        "outputId": "94d18af2-4085-4c76-dab1-7a3686ca5a1c"
      },
      "source": [
        "bool(-10.5)#non zero means true"
      ],
      "execution_count": null,
      "outputs": [
        {
          "output_type": "execute_result",
          "data": {
            "text/plain": [
              "True"
            ]
          },
          "metadata": {},
          "execution_count": 70
        }
      ]
    },
    {
      "cell_type": "code",
      "metadata": {
        "colab": {
          "base_uri": "https://localhost:8080/"
        },
        "id": "50C-B8TGw-uC",
        "outputId": "2b579500-ffd5-4eca-9f86-3c713d2a1c06"
      },
      "source": [
        "bool(0.1)"
      ],
      "execution_count": null,
      "outputs": [
        {
          "output_type": "execute_result",
          "data": {
            "text/plain": [
              "True"
            ]
          },
          "metadata": {},
          "execution_count": 71
        }
      ]
    },
    {
      "cell_type": "code",
      "metadata": {
        "colab": {
          "base_uri": "https://localhost:8080/"
        },
        "id": "JmkYrH5Eww_i",
        "outputId": "53524471-88ea-4099-c39a-5fa2831b906b"
      },
      "source": [
        "bool(0+0j)#if both are 0 then false otherwise true"
      ],
      "execution_count": null,
      "outputs": [
        {
          "output_type": "execute_result",
          "data": {
            "text/plain": [
              "False"
            ]
          },
          "metadata": {},
          "execution_count": 72
        }
      ]
    },
    {
      "cell_type": "code",
      "metadata": {
        "colab": {
          "base_uri": "https://localhost:8080/"
        },
        "id": "slpQd1B8xTw8",
        "outputId": "01763a8c-0b56-4a29-bba6-0c1ec4fd202e"
      },
      "source": [
        "bool(1+0j)"
      ],
      "execution_count": null,
      "outputs": [
        {
          "output_type": "execute_result",
          "data": {
            "text/plain": [
              "True"
            ]
          },
          "metadata": {},
          "execution_count": 74
        }
      ]
    },
    {
      "cell_type": "code",
      "metadata": {
        "colab": {
          "base_uri": "https://localhost:8080/"
        },
        "id": "IjFqt0ZCxhHO",
        "outputId": "bdcbde0e-735b-4afb-eb93-23181596d899"
      },
      "source": [
        "bool('0.45')#if str contain something then it is true"
      ],
      "execution_count": null,
      "outputs": [
        {
          "output_type": "execute_result",
          "data": {
            "text/plain": [
              "True"
            ]
          },
          "metadata": {},
          "execution_count": 77
        }
      ]
    },
    {
      "cell_type": "code",
      "metadata": {
        "colab": {
          "base_uri": "https://localhost:8080/"
        },
        "id": "H3oTRKDWxqjO",
        "outputId": "a095dbd6-4ccc-4ff6-8e28-5315786aeb6d"
      },
      "source": [
        "bool('True')"
      ],
      "execution_count": null,
      "outputs": [
        {
          "output_type": "execute_result",
          "data": {
            "text/plain": [
              "True"
            ]
          },
          "metadata": {},
          "execution_count": 78
        }
      ]
    },
    {
      "cell_type": "code",
      "metadata": {
        "colab": {
          "base_uri": "https://localhost:8080/"
        },
        "id": "_8M0vXTBxwfn",
        "outputId": "0e2c3166-528c-40a3-caa8-5ea7793bda7e"
      },
      "source": [
        "bool('no')"
      ],
      "execution_count": null,
      "outputs": [
        {
          "output_type": "execute_result",
          "data": {
            "text/plain": [
              "True"
            ]
          },
          "metadata": {},
          "execution_count": 79
        }
      ]
    },
    {
      "cell_type": "code",
      "metadata": {
        "colab": {
          "base_uri": "https://localhost:8080/"
        },
        "id": "e3djwvZgx0jW",
        "outputId": "8af5a7ed-8ab8-4e30-9046-a3749815575e"
      },
      "source": [
        "bool('')#if it is empty str then only it is false"
      ],
      "execution_count": null,
      "outputs": [
        {
          "output_type": "execute_result",
          "data": {
            "text/plain": [
              "False"
            ]
          },
          "metadata": {},
          "execution_count": 87
        }
      ]
    },
    {
      "cell_type": "code",
      "metadata": {
        "colab": {
          "base_uri": "https://localhost:8080/",
          "height": 34
        },
        "id": "YiicppqBqhBv",
        "outputId": "1511884a-e1a9-40e6-a86b-87fa26042d79"
      },
      "source": [
        "str(10)"
      ],
      "execution_count": null,
      "outputs": [
        {
          "output_type": "execute_result",
          "data": {
            "application/vnd.google.colaboratory.intrinsic+json": {
              "type": "string"
            },
            "text/plain": [
              "'10'"
            ]
          },
          "metadata": {},
          "execution_count": 2
        }
      ]
    },
    {
      "cell_type": "code",
      "metadata": {
        "colab": {
          "base_uri": "https://localhost:8080/",
          "height": 34
        },
        "id": "B24HLtdKqkuZ",
        "outputId": "d22b1ce7-d3bf-41d9-e004-cf5f83881275"
      },
      "source": [
        "str(14.4)#float to str"
      ],
      "execution_count": null,
      "outputs": [
        {
          "output_type": "execute_result",
          "data": {
            "application/vnd.google.colaboratory.intrinsic+json": {
              "type": "string"
            },
            "text/plain": [
              "'14.4'"
            ]
          },
          "metadata": {},
          "execution_count": 4
        }
      ]
    },
    {
      "cell_type": "code",
      "metadata": {
        "colab": {
          "base_uri": "https://localhost:8080/",
          "height": 34
        },
        "id": "Ijni1oiTqqcS",
        "outputId": "a7126caa-846d-4500-9f5c-714f686d7596"
      },
      "source": [
        "str(True)#bool to str"
      ],
      "execution_count": null,
      "outputs": [
        {
          "output_type": "execute_result",
          "data": {
            "application/vnd.google.colaboratory.intrinsic+json": {
              "type": "string"
            },
            "text/plain": [
              "'True'"
            ]
          },
          "metadata": {},
          "execution_count": 8
        }
      ]
    },
    {
      "cell_type": "markdown",
      "metadata": {
        "id": "A67tkPG-rpW1"
      },
      "source": [
        "Mutable=changeable\n",
        "Immutable=non changeable(once we created a object we can't perform any changes in that object.\n",
        "If we are trying to perform any changes with those changes,a new object will be created.)"
      ]
    },
    {
      "cell_type": "code",
      "metadata": {
        "colab": {
          "base_uri": "https://localhost:8080/"
        },
        "id": "ojgIQKwBs-dz",
        "outputId": "91227b33-814f-4ee5-f0c3-2344b0217ac0"
      },
      "source": [
        "x=10\n",
        "print(id(x))\n",
        "#values are diff 10 will be removed\n",
        "#new object is created(immutable)\n",
        "x=x+1\n",
        "print(id(x))"
      ],
      "execution_count": null,
      "outputs": [
        {
          "output_type": "stream",
          "name": "stdout",
          "text": [
            "94215258372896\n",
            "94215258372928\n"
          ]
        }
      ]
    },
    {
      "cell_type": "code",
      "metadata": {
        "colab": {
          "base_uri": "https://localhost:8080/"
        },
        "id": "sM8V5Hf5vBSj",
        "outputId": "dce611b6-8473-4312-fe89-9adaa66eeccd"
      },
      "source": [
        "x=10\n",
        "y=x\n",
        "print(id(x))\n",
        "print(id(y))\n",
        "y=y+1\n",
        "print(x)\n",
        "print(y)\n",
        "print(id(x))\n",
        "print(id(y))"
      ],
      "execution_count": null,
      "outputs": [
        {
          "output_type": "stream",
          "name": "stdout",
          "text": [
            "94215258372896\n",
            "94215258372896\n",
            "10\n",
            "11\n",
            "94215258372896\n",
            "94215258372928\n"
          ]
        }
      ]
    },
    {
      "cell_type": "code",
      "metadata": {
        "colab": {
          "base_uri": "https://localhost:8080/"
        },
        "id": "hKf-uxvFwafn",
        "outputId": "5cc2c960-a858-4ad3-ca77-ab7bb0bb4651"
      },
      "source": [
        "a=b=c=10\n",
        "b=11\n",
        "#c=10\n",
        "print(a,b,c)\n",
        "print(b is c)"
      ],
      "execution_count": null,
      "outputs": [
        {
          "output_type": "stream",
          "name": "stdout",
          "text": [
            "10 11 10\n",
            "False\n"
          ]
        }
      ]
    },
    {
      "cell_type": "code",
      "metadata": {
        "colab": {
          "base_uri": "https://localhost:8080/"
        },
        "id": "w2scQbXN0UvA",
        "outputId": "0334ba8f-ca65-4874-dbf2-6894328c632e"
      },
      "source": [
        "a=10+20j\n",
        "b=10+20j\n",
        "print(a is b)\n",
        "a=20\n",
        "b=20\n",
        "print(a is b)"
      ],
      "execution_count": null,
      "outputs": [
        {
          "output_type": "stream",
          "name": "stdout",
          "text": [
            "False\n",
            "True\n"
          ]
        }
      ]
    },
    {
      "cell_type": "code",
      "metadata": {
        "colab": {
          "base_uri": "https://localhost:8080/"
        },
        "id": "UnPKvODF08K6",
        "outputId": "bbe1e59b-eb08-402d-eef5-4ed9bbe1a3d3"
      },
      "source": [
        "l=[10,20,30]#mutable\n",
        "print (l)\n",
        "print(id(l))\n",
        "l[0]=7777\n",
        "print(l)\n",
        "print(id(l))"
      ],
      "execution_count": null,
      "outputs": [
        {
          "output_type": "stream",
          "name": "stdout",
          "text": [
            "[10, 20, 30]\n",
            "140620956228976\n",
            "[7777, 20, 30]\n",
            "140620956228976\n"
          ]
        }
      ]
    },
    {
      "cell_type": "code",
      "metadata": {
        "id": "r-laAhKc3ooR"
      },
      "source": [
        "[10,20,30]#list,duplicates are allowed\n",
        "(10,20,30)#tuple, duplicate are allowed\n",
        "{10,20,30}#set, duplicates not allowed\n",
        "{10:'raj',20:'bat'}#dict"
      ],
      "execution_count": null,
      "outputs": []
    },
    {
      "cell_type": "code",
      "metadata": {
        "colab": {
          "base_uri": "https://localhost:8080/"
        },
        "id": "QouFUuOk4yDG",
        "outputId": "0ddfacba-5423-438e-d57f-acf9da648b0e"
      },
      "source": [
        "l=[10,'hdhd',20,10,30]#duplicates are allowed\n",
        "print(type(l))\n",
        "print(l)"
      ],
      "execution_count": null,
      "outputs": [
        {
          "output_type": "stream",
          "name": "stdout",
          "text": [
            "<class 'list'>\n",
            "[10, 'hdhd', 20, 10, 30]\n"
          ]
        }
      ]
    },
    {
      "cell_type": "code",
      "metadata": {
        "colab": {
          "base_uri": "https://localhost:8080/"
        },
        "id": "FS31RW6z6JnX",
        "outputId": "303c89a0-9c2a-436f-a525-4e85e7ed6ac3"
      },
      "source": [
        "l=[]# list is mutable,more memory,performanceless\n",
        "l.append(10)\n",
        "l.append(30)\n",
        "print(l)\n",
        "l.remove(30)\n",
        "print(l)"
      ],
      "execution_count": null,
      "outputs": [
        {
          "output_type": "stream",
          "name": "stdout",
          "text": [
            "[10, 30]\n",
            "[10]\n"
          ]
        }
      ]
    },
    {
      "cell_type": "code",
      "source": [
        "l[0]=333\n",
        "print(l)"
      ],
      "metadata": {
        "colab": {
          "base_uri": "https://localhost:8080/"
        },
        "id": "vcR8_UkaXtmt",
        "outputId": "2a51cd08-7ddc-4a81-837f-788db5a9b694"
      },
      "execution_count": null,
      "outputs": [
        {
          "output_type": "stream",
          "name": "stdout",
          "text": [
            "[333]\n"
          ]
        }
      ]
    },
    {
      "cell_type": "code",
      "metadata": {
        "id": "Z3CMzzNy6vYy",
        "colab": {
          "base_uri": "https://localhost:8080/"
        },
        "outputId": "592a4775-e3df-45a9-8ae3-a373fa175900"
      },
      "source": [
        "k=(10,20,30,10,'bat')#tuple contains less memory,faster access\n",
        "print(type(k))\n",
        "print (k)"
      ],
      "execution_count": null,
      "outputs": [
        {
          "output_type": "stream",
          "name": "stdout",
          "text": [
            "<class 'tuple'>\n",
            "(10, 20, 30, 10, 'bat')\n"
          ]
        }
      ]
    },
    {
      "cell_type": "code",
      "source": [
        "k=(10,)\n",
        "print(type(k))"
      ],
      "metadata": {
        "colab": {
          "base_uri": "https://localhost:8080/"
        },
        "id": "5rBs1tZkZaQz",
        "outputId": "65f305d5-9099-4b43-968a-bdcaa53daf10"
      },
      "execution_count": null,
      "outputs": [
        {
          "output_type": "stream",
          "name": "stdout",
          "text": [
            "<class 'tuple'>\n"
          ]
        }
      ]
    },
    {
      "cell_type": "markdown",
      "source": [
        "#set:duplicates are not allowed.\n",
        "Order is not required.\n",
        "Indexing and slicing are not allowed."
      ],
      "metadata": {
        "id": "D_b1ZlwWc_lR"
      }
    },
    {
      "cell_type": "code",
      "metadata": {
        "id": "8WpPYx385Ycy",
        "colab": {
          "base_uri": "https://localhost:8080/"
        },
        "outputId": "e0fb5e83-f39d-4781-bc29-916d3559e413"
      },
      "source": [
        "s={10,20,10,'bat',30,40}\n",
        "print(type(s))#order not required\n",
        "print(s)"
      ],
      "execution_count": null,
      "outputs": [
        {
          "output_type": "stream",
          "name": "stdout",
          "text": [
            "<class 'set'>\n",
            "{40, 'bat', 10, 20, 30}\n"
          ]
        }
      ]
    },
    {
      "cell_type": "code",
      "source": [
        "s.add(50)\n",
        "s.remove(40)\n",
        "print(s)"
      ],
      "metadata": {
        "colab": {
          "base_uri": "https://localhost:8080/"
        },
        "id": "YIlz6Gfoe7d_",
        "outputId": "51a6bb30-6ccb-4efa-c42b-178edb67de02"
      },
      "execution_count": null,
      "outputs": [
        {
          "output_type": "stream",
          "name": "stdout",
          "text": [
            "{'bat', 10, 50, 20, 30}\n"
          ]
        }
      ]
    },
    {
      "cell_type": "code",
      "source": [
        "mystr=['s','T','R','I','N','G']\n",
        "print(str(mystr))"
      ],
      "metadata": {
        "id": "a7n4Q0lNf7Lh",
        "colab": {
          "base_uri": "https://localhost:8080/"
        },
        "outputId": "3120972e-8bbe-4492-dd99-9a5d3e7aa87b"
      },
      "execution_count": null,
      "outputs": [
        {
          "output_type": "stream",
          "name": "stdout",
          "text": [
            "['s', 'T', 'R', 'I', 'N', 'G']\n"
          ]
        }
      ]
    },
    {
      "cell_type": "code",
      "source": [
        "x={1,2,3}\n",
        "y={1,3,2,3}\n",
        "print(x==y)"
      ],
      "metadata": {
        "id": "li2cFqp2KLWZ",
        "colab": {
          "base_uri": "https://localhost:8080/"
        },
        "outputId": "a018395c-45f1-4915-fc9c-5fd37c772cce"
      },
      "execution_count": null,
      "outputs": [
        {
          "output_type": "stream",
          "name": "stdout",
          "text": [
            "True\n"
          ]
        }
      ]
    },
    {
      "cell_type": "code",
      "source": [
        "a=3\n",
        "b=4\n",
        "c=5\n",
        "print(a+b+c)"
      ],
      "metadata": {
        "colab": {
          "base_uri": "https://localhost:8080/"
        },
        "id": "NR3JoVvOK6KK",
        "outputId": "b4966708-877a-4a0a-aa2e-c6b23aa084d6"
      },
      "execution_count": null,
      "outputs": [
        {
          "output_type": "stream",
          "name": "stdout",
          "text": [
            "12\n"
          ]
        }
      ]
    },
    {
      "cell_type": "markdown",
      "source": [
        "#Tuple and list"
      ],
      "metadata": {
        "id": "ewTMVAsZi4C4"
      }
    },
    {
      "cell_type": "code",
      "source": [
        "e=(1,2,3,4)\n",
        "print(type(e))#tuple doesn't have append and remove\n",
        "print(e)\n",
        "#e.append(5)\n",
        "#print(e)"
      ],
      "metadata": {
        "colab": {
          "base_uri": "https://localhost:8080/"
        },
        "id": "WYzZR-D-f25e",
        "outputId": "0ac2fdb1-73e6-493d-9289-31f74742c16d"
      },
      "execution_count": null,
      "outputs": [
        {
          "output_type": "stream",
          "name": "stdout",
          "text": [
            "<class 'tuple'>\n",
            "(1, 2, 3, 4)\n"
          ]
        }
      ]
    },
    {
      "cell_type": "code",
      "source": [
        "l=[1,2,\"rohith\",3,4]\n",
        "print(type(l))\n",
        "print(l)\n",
        "l.append(5)\n",
        "l.remove(4)\n",
        "print(l)"
      ],
      "metadata": {
        "colab": {
          "base_uri": "https://localhost:8080/"
        },
        "id": "bWTABNuTiIYv",
        "outputId": "683c57c8-afc3-405b-b20a-51dc0d5d3562"
      },
      "execution_count": null,
      "outputs": [
        {
          "output_type": "stream",
          "name": "stdout",
          "text": [
            "<class 'list'>\n",
            "[1, 2, 'rohith', 3, 4]\n",
            "[1, 2, 'rohith', 3, 5]\n"
          ]
        }
      ]
    },
    {
      "cell_type": "code",
      "source": [
        "def x():\n",
        " pass\n",
        "print(type(x()))"
      ],
      "metadata": {
        "colab": {
          "base_uri": "https://localhost:8080/"
        },
        "id": "dTMkkkNNARpT",
        "outputId": "d9adfbe6-f283-4070-e5bf-e9ac438df006"
      },
      "execution_count": null,
      "outputs": [
        {
          "output_type": "stream",
          "name": "stdout",
          "text": [
            "<class 'NoneType'>\n"
          ]
        }
      ]
    },
    {
      "cell_type": "code",
      "source": [
        "E=[]\n",
        "print(type(E))\n",
        "print(E)"
      ],
      "metadata": {
        "colab": {
          "base_uri": "https://localhost:8080/"
        },
        "id": "NlvivdPyBSLT",
        "outputId": "3de2fec1-3563-45ab-f695-841be079feee"
      },
      "execution_count": null,
      "outputs": [
        {
          "output_type": "stream",
          "name": "stdout",
          "text": [
            "<class 'list'>\n",
            "[]\n"
          ]
        }
      ]
    },
    {
      "cell_type": "code",
      "source": [
        "a=4\n",
        "print(type(a))\n",
        "print(a)"
      ],
      "metadata": {
        "id": "FhZgwgk0DTIQ",
        "colab": {
          "base_uri": "https://localhost:8080/"
        },
        "outputId": "fa320389-d4b5-44da-b406-153b119486fe"
      },
      "execution_count": null,
      "outputs": [
        {
          "output_type": "stream",
          "name": "stdout",
          "text": [
            "<class 'int'>\n",
            "4\n"
          ]
        }
      ]
    },
    {
      "cell_type": "code",
      "source": [
        "print(3*2**2)"
      ],
      "metadata": {
        "id": "g5-3JMu2CXpn",
        "colab": {
          "base_uri": "https://localhost:8080/"
        },
        "outputId": "2da285ae-abf8-4c0d-a39c-33105a4a42d0"
      },
      "execution_count": null,
      "outputs": [
        {
          "output_type": "stream",
          "name": "stdout",
          "text": [
            "12\n"
          ]
        }
      ]
    },
    {
      "cell_type": "code",
      "source": [
        "print(2**3)"
      ],
      "metadata": {
        "id": "NiB6RSaxCoLv",
        "colab": {
          "base_uri": "https://localhost:8080/"
        },
        "outputId": "d17fd7f0-7341-4791-e0ba-e777ed574c75"
      },
      "execution_count": null,
      "outputs": [
        {
          "output_type": "stream",
          "name": "stdout",
          "text": [
            "8\n"
          ]
        }
      ]
    },
    {
      "cell_type": "code",
      "source": [
        "print(3*2**1)"
      ],
      "metadata": {
        "id": "n3h-Tbog5VTO",
        "outputId": "d6e3ae62-8f00-4f11-dac4-5596b17076af",
        "colab": {
          "base_uri": "https://localhost:8080/"
        }
      },
      "execution_count": null,
      "outputs": [
        {
          "output_type": "stream",
          "name": "stdout",
          "text": [
            "6\n"
          ]
        }
      ]
    },
    {
      "cell_type": "markdown",
      "source": [
        "Sets"
      ],
      "metadata": {
        "id": "FAFW6YFfqImP"
      }
    },
    {
      "cell_type": "code",
      "source": [
        "Num={1,2,3,4,5}"
      ],
      "metadata": {
        "id": "gia8i0PbpEEp"
      },
      "execution_count": null,
      "outputs": []
    },
    {
      "cell_type": "code",
      "source": [
        "Numb={4,5,6,7,8}"
      ],
      "metadata": {
        "id": "CjTfPHNqpNQ_"
      },
      "execution_count": null,
      "outputs": []
    },
    {
      "cell_type": "code",
      "source": [
        "Num-Numb"
      ],
      "metadata": {
        "colab": {
          "base_uri": "https://localhost:8080/"
        },
        "id": "a44kLjjapUEh",
        "outputId": "90b8ad6b-374f-443a-8283-8bc44b570450"
      },
      "execution_count": null,
      "outputs": [
        {
          "output_type": "execute_result",
          "data": {
            "text/plain": [
              "{1, 2, 3}"
            ]
          },
          "metadata": {},
          "execution_count": 5
        }
      ]
    },
    {
      "cell_type": "code",
      "source": [
        "Num|Numb"
      ],
      "metadata": {
        "colab": {
          "base_uri": "https://localhost:8080/"
        },
        "id": "z6B1dLR8pZfs",
        "outputId": "9e3ff5b0-c6b2-468f-d9f5-2dfde3ffeb9c"
      },
      "execution_count": null,
      "outputs": [
        {
          "output_type": "execute_result",
          "data": {
            "text/plain": [
              "{1, 2, 3, 4, 5, 6, 7, 8}"
            ]
          },
          "metadata": {},
          "execution_count": 9
        }
      ]
    },
    {
      "cell_type": "code",
      "source": [
        "Num&Numb"
      ],
      "metadata": {
        "colab": {
          "base_uri": "https://localhost:8080/"
        },
        "id": "A8q5_VkAqD1S",
        "outputId": "299c7414-7191-4084-96de-437d450915ce"
      },
      "execution_count": null,
      "outputs": [
        {
          "output_type": "execute_result",
          "data": {
            "text/plain": [
              "{4, 5}"
            ]
          },
          "metadata": {},
          "execution_count": 10
        }
      ]
    },
    {
      "cell_type": "code",
      "source": [
        "for i in range(5,0,-1):\n",
        "   print(i)"
      ],
      "metadata": {
        "colab": {
          "base_uri": "https://localhost:8080/"
        },
        "id": "y-3c7goYrIGs",
        "outputId": "e8f276d4-d8ce-4192-da60-cbc1b80529a4"
      },
      "execution_count": null,
      "outputs": [
        {
          "output_type": "stream",
          "name": "stdout",
          "text": [
            "5\n",
            "4\n",
            "3\n",
            "2\n",
            "1\n"
          ]
        }
      ]
    },
    {
      "cell_type": "code",
      "source": [
        "list=[1,2,3,4]\n",
        "print(list[1::3])"
      ],
      "metadata": {
        "colab": {
          "base_uri": "https://localhost:8080/"
        },
        "id": "3Fcz9AlvrvqG",
        "outputId": "2d7d5f39-64ee-4b1e-fb31-6375cc8d2a44"
      },
      "execution_count": null,
      "outputs": [
        {
          "output_type": "stream",
          "name": "stdout",
          "text": [
            "[2]\n"
          ]
        }
      ]
    },
    {
      "cell_type": "code",
      "source": [
        "i = 1\n",
        "while i <= 5:\n",
        "    print(i)\n",
        "    i += 2\n",
        "else:\n",
        "    print(0)"
      ],
      "metadata": {
        "id": "cDib0Id3tc3N",
        "outputId": "c95c060c-97c3-4af6-9be8-09ae3c7feaf9",
        "colab": {
          "base_uri": "https://localhost:8080/"
        }
      },
      "execution_count": null,
      "outputs": [
        {
          "output_type": "stream",
          "name": "stdout",
          "text": [
            "1\n",
            "3\n",
            "5\n",
            "0\n"
          ]
        }
      ]
    }
  ]
}